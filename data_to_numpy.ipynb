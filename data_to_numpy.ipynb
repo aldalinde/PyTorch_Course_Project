{
 "cells": [
  {
   "cell_type": "code",
   "execution_count": 1,
   "id": "35b9f5eb",
   "metadata": {},
   "outputs": [],
   "source": [
    "import numpy as np\n",
    "import pickle"
   ]
  },
  {
   "cell_type": "code",
   "execution_count": 3,
   "id": "7fa6ea8d",
   "metadata": {},
   "outputs": [],
   "source": [
    "import re"
   ]
  },
  {
   "cell_type": "code",
   "execution_count": 4,
   "id": "d7ff0e3c",
   "metadata": {},
   "outputs": [],
   "source": [
    "import imageio.v2 as imageio"
   ]
  },
  {
   "cell_type": "code",
   "execution_count": 5,
   "id": "efd9fcf2",
   "metadata": {},
   "outputs": [],
   "source": [
    "import os, sys"
   ]
  },
  {
   "cell_type": "code",
   "execution_count": 6,
   "id": "aa598042",
   "metadata": {},
   "outputs": [],
   "source": [
    "module_path = os.path.abspath(os.path.join(os.pardir))\n",
    "if module_path not in sys.path:\n",
    "    sys.path.append(module_path)"
   ]
  },
  {
   "cell_type": "code",
   "execution_count": 7,
   "id": "dea4c4c7",
   "metadata": {},
   "outputs": [],
   "source": [
    "list_dir = os.listdir(path='leapGestRecog')"
   ]
  },
  {
   "cell_type": "code",
   "execution_count": 8,
   "id": "2437c336",
   "metadata": {},
   "outputs": [
    {
     "data": {
      "text/plain": [
       "['00', '01', '02', '03', '04', '05', '06', '07', '08', '09']"
      ]
     },
     "execution_count": 8,
     "metadata": {},
     "output_type": "execute_result"
    }
   ],
   "source": [
    "list_dir"
   ]
  },
  {
   "cell_type": "code",
   "execution_count": 9,
   "id": "8f959f5c",
   "metadata": {},
   "outputs": [],
   "source": [
    "list_gest = []\n",
    "for d in list_dir:\n",
    "     list_gest = os.listdir(path=f'leapGestRecog/{d}')"
   ]
  },
  {
   "cell_type": "code",
   "execution_count": 10,
   "id": "5572f109",
   "metadata": {},
   "outputs": [
    {
     "data": {
      "text/plain": [
       "['01_palm',\n",
       " '02_l',\n",
       " '03_fist',\n",
       " '04_fist_moved',\n",
       " '05_thumb',\n",
       " '06_index',\n",
       " '07_ok',\n",
       " '08_palm_moved',\n",
       " '09_c',\n",
       " '10_down']"
      ]
     },
     "execution_count": 10,
     "metadata": {},
     "output_type": "execute_result"
    }
   ],
   "source": [
    "list_gest"
   ]
  },
  {
   "cell_type": "code",
   "execution_count": 11,
   "id": "ce641ef0",
   "metadata": {},
   "outputs": [
    {
     "name": "stdout",
     "output_type": "stream",
     "text": [
      "Shape of image:\n",
      " (240, 640)\n"
     ]
    }
   ],
   "source": [
    "# Loading the image\n",
    "#file = open(filepath, 'rb') Course_project\\leapGestRecog\\06\\04_fist_moved\n",
    "img = imageio.imread('../Course_project/leapGestRecog/06/04_fist_moved/frame_06_04_0002.png')\n",
    "\n",
    "# Print the shape of the image\n",
    "print(\"Shape of image:\\n\",img.shape)"
   ]
  },
  {
   "cell_type": "code",
   "execution_count": 34,
   "id": "bb748ce3",
   "metadata": {},
   "outputs": [],
   "source": [
    "img_data = []\n",
    "class_data = []\n",
    "for direct in list_dir:\n",
    "    for gest in list_gest:\n",
    "        file_list = os.listdir(path=f'../Course_project/leapGestRecog/{direct}/{gest}')\n",
    "        class_name = int(re.search(r'[0-9]*', gest).group())\n",
    " \n",
    "        for f in file_list:            \n",
    "            img = imageio.imread(f'../Course_project/leapGestRecog/{direct}/{gest}/{f}')\n",
    "            img_data.append(img)\n",
    "            class_data.append(class_name)"
   ]
  },
  {
   "cell_type": "code",
   "execution_count": 35,
   "id": "592f1f9d",
   "metadata": {},
   "outputs": [
    {
     "name": "stdout",
     "output_type": "stream",
     "text": [
      "(20000, 240, 640) (20000,)\n"
     ]
    }
   ],
   "source": [
    "# shape of the dataset\n",
    "img_data = np.array(img_data)\n",
    "class_data = np.array(class_data)\n",
    "print(img_data.shape, class_data.shape)"
   ]
  },
  {
   "cell_type": "code",
   "execution_count": 36,
   "id": "fd6d1d5d",
   "metadata": {},
   "outputs": [],
   "source": [
    "with open('image_data.pkl','wb') as f:\n",
    "    pickle.dump(img_data, f)\n",
    "with open('class_data.pkl','wb') as c:\n",
    "    pickle.dump(class_data, c)"
   ]
  },
  {
   "cell_type": "code",
   "execution_count": 38,
   "id": "8a010981",
   "metadata": {},
   "outputs": [],
   "source": [
    "with open('image_bin.npy', 'wb') as f:\n",
    "    np.save(f, img_data)\n",
    "with open('class_bin.npy', 'wb') as c:\n",
    "    np.save(c, class_data)"
   ]
  },
  {
   "cell_type": "code",
   "execution_count": null,
   "id": "c045949c",
   "metadata": {},
   "outputs": [],
   "source": []
  }
 ],
 "metadata": {
  "kernelspec": {
   "display_name": "Python 3 (ipykernel)",
   "language": "python",
   "name": "python3"
  },
  "language_info": {
   "codemirror_mode": {
    "name": "ipython",
    "version": 3
   },
   "file_extension": ".py",
   "mimetype": "text/x-python",
   "name": "python",
   "nbconvert_exporter": "python",
   "pygments_lexer": "ipython3",
   "version": "3.9.13"
  }
 },
 "nbformat": 4,
 "nbformat_minor": 5
}
